{
 "cells": [
  {
   "cell_type": "code",
   "execution_count": 86,
   "metadata": {},
   "outputs": [],
   "source": [
    "import numpy as np\n",
    "import tensorflow as tf\n",
    "import pandas as pd"
   ]
  },
  {
   "cell_type": "code",
   "execution_count": 87,
   "metadata": {},
   "outputs": [
    {
     "data": {
      "text/html": [
       "<div>\n",
       "<style scoped>\n",
       "    .dataframe tbody tr th:only-of-type {\n",
       "        vertical-align: middle;\n",
       "    }\n",
       "\n",
       "    .dataframe tbody tr th {\n",
       "        vertical-align: top;\n",
       "    }\n",
       "\n",
       "    .dataframe thead th {\n",
       "        text-align: right;\n",
       "    }\n",
       "</style>\n",
       "<table border=\"1\" class=\"dataframe\">\n",
       "  <thead>\n",
       "    <tr style=\"text-align: right;\">\n",
       "      <th></th>\n",
       "      <th>Unnamed: 0</th>\n",
       "      <th>WindSpeed</th>\n",
       "      <th>WindDirection</th>\n",
       "      <th>Power</th>\n",
       "    </tr>\n",
       "  </thead>\n",
       "  <tbody>\n",
       "    <tr>\n",
       "      <th>0</th>\n",
       "      <td>0</td>\n",
       "      <td>0.0</td>\n",
       "      <td>0.0</td>\n",
       "      <td>0.0</td>\n",
       "    </tr>\n",
       "    <tr>\n",
       "      <th>1</th>\n",
       "      <td>1</td>\n",
       "      <td>0.0</td>\n",
       "      <td>0.0</td>\n",
       "      <td>0.0</td>\n",
       "    </tr>\n",
       "    <tr>\n",
       "      <th>2</th>\n",
       "      <td>2</td>\n",
       "      <td>0.0</td>\n",
       "      <td>0.0</td>\n",
       "      <td>0.0</td>\n",
       "    </tr>\n",
       "    <tr>\n",
       "      <th>3</th>\n",
       "      <td>3</td>\n",
       "      <td>0.0</td>\n",
       "      <td>0.0</td>\n",
       "      <td>0.0</td>\n",
       "    </tr>\n",
       "    <tr>\n",
       "      <th>4</th>\n",
       "      <td>4</td>\n",
       "      <td>0.0</td>\n",
       "      <td>0.0</td>\n",
       "      <td>0.0</td>\n",
       "    </tr>\n",
       "  </tbody>\n",
       "</table>\n",
       "</div>"
      ],
      "text/plain": [
       "   Unnamed: 0  WindSpeed  WindDirection  Power\n",
       "0           0        0.0            0.0    0.0\n",
       "1           1        0.0            0.0    0.0\n",
       "2           2        0.0            0.0    0.0\n",
       "3           3        0.0            0.0    0.0\n",
       "4           4        0.0            0.0    0.0"
      ]
     },
     "execution_count": 87,
     "metadata": {},
     "output_type": "execute_result"
    }
   ],
   "source": [
    "data = pd.read_csv('Turbine_Data_project.csv')\n",
    "data.head()"
   ]
  },
  {
   "cell_type": "code",
   "execution_count": 88,
   "metadata": {},
   "outputs": [
    {
     "data": {
      "text/html": [
       "<div>\n",
       "<style scoped>\n",
       "    .dataframe tbody tr th:only-of-type {\n",
       "        vertical-align: middle;\n",
       "    }\n",
       "\n",
       "    .dataframe tbody tr th {\n",
       "        vertical-align: top;\n",
       "    }\n",
       "\n",
       "    .dataframe thead th {\n",
       "        text-align: right;\n",
       "    }\n",
       "</style>\n",
       "<table border=\"1\" class=\"dataframe\">\n",
       "  <thead>\n",
       "    <tr style=\"text-align: right;\">\n",
       "      <th></th>\n",
       "      <th>WindSpeed</th>\n",
       "      <th>WindDirection</th>\n",
       "      <th>Power</th>\n",
       "    </tr>\n",
       "  </thead>\n",
       "  <tbody>\n",
       "    <tr>\n",
       "      <th>0</th>\n",
       "      <td>0.0</td>\n",
       "      <td>0.0</td>\n",
       "      <td>0.0</td>\n",
       "    </tr>\n",
       "    <tr>\n",
       "      <th>1</th>\n",
       "      <td>0.0</td>\n",
       "      <td>0.0</td>\n",
       "      <td>0.0</td>\n",
       "    </tr>\n",
       "    <tr>\n",
       "      <th>2</th>\n",
       "      <td>0.0</td>\n",
       "      <td>0.0</td>\n",
       "      <td>0.0</td>\n",
       "    </tr>\n",
       "    <tr>\n",
       "      <th>3</th>\n",
       "      <td>0.0</td>\n",
       "      <td>0.0</td>\n",
       "      <td>0.0</td>\n",
       "    </tr>\n",
       "    <tr>\n",
       "      <th>4</th>\n",
       "      <td>0.0</td>\n",
       "      <td>0.0</td>\n",
       "      <td>0.0</td>\n",
       "    </tr>\n",
       "  </tbody>\n",
       "</table>\n",
       "</div>"
      ],
      "text/plain": [
       "   WindSpeed  WindDirection  Power\n",
       "0        0.0            0.0    0.0\n",
       "1        0.0            0.0    0.0\n",
       "2        0.0            0.0    0.0\n",
       "3        0.0            0.0    0.0\n",
       "4        0.0            0.0    0.0"
      ]
     },
     "execution_count": 88,
     "metadata": {},
     "output_type": "execute_result"
    }
   ],
   "source": [
    "data = data.drop(['Unnamed: 0'], axis=1)\n",
    "data.head()"
   ]
  },
  {
   "cell_type": "code",
   "execution_count": 89,
   "metadata": {},
   "outputs": [],
   "source": [
    "x = tf.cast(data.drop(['Power'], axis=1), tf.float32)\n",
    "y = tf.cast(data['Power'], tf.float32)\n",
    "\n",
    "def normalize(x):\n",
    "    return (x - tf.reduce_min(x)) / (tf.reduce_max(x) - tf.reduce_min(x))\n",
    "\n",
    "x = normalize(x)\n",
    "# y = normalize(y)"
   ]
  },
  {
   "cell_type": "code",
   "execution_count": 90,
   "metadata": {},
   "outputs": [
    {
     "name": "stdout",
     "output_type": "stream",
     "text": [
      "(85121, 2) (9458, 2) (23645, 2)\n",
      "(85121,) (9458,) (23645,)\n"
     ]
    }
   ],
   "source": [
    "def train_test_split(x, y, train_size=0.8):\n",
    "    train_size = int(train_size * len(x))\n",
    "    x_train, x_valid = x[:train_size], x[train_size:]\n",
    "    y_train, y_valid = y[:train_size], y[train_size:]\n",
    "    return x_train, x_valid, y_train, y_valid\n",
    "\n",
    "x_train, x_test, y_train, y_test = train_test_split(x, y) # 80% train, 20% test\n",
    "x_train, x_val, y_train, y_val = train_test_split(x_train, y_train, train_size=0.9) # from train, 90% train, 10% validation\n",
    "\n",
    "# checking the shapes\n",
    "print(x_train.shape, x_val.shape, x_test.shape) # x_train[:,0] : wind speed, x_train[:,1] :  wind direction\n",
    "print(y_train.shape, y_val.shape, y_test.shape) # y_train : power"
   ]
  },
  {
   "cell_type": "code",
   "execution_count": 95,
   "metadata": {},
   "outputs": [
    {
     "name": "stdout",
     "output_type": "stream",
     "text": [
      "Model: \"sequential_16\"\n",
      "_________________________________________________________________\n",
      " Layer (type)                Output Shape              Param #   \n",
      "=================================================================\n",
      " dense_45 (Dense)            (None, 64)                192       \n",
      "                                                                 \n",
      " dense_46 (Dense)            (None, 64)                4160      \n",
      "                                                                 \n",
      " dense_47 (Dense)            (None, 1)                 65        \n",
      "                                                                 \n",
      "=================================================================\n",
      "Total params: 4,417\n",
      "Trainable params: 4,417\n",
      "Non-trainable params: 0\n",
      "_________________________________________________________________\n"
     ]
    }
   ],
   "source": [
    "def create_model():\n",
    "    model = tf.keras.models.Sequential()\n",
    "    model.add(tf.keras.layers.Dense(64, activation='relu', input_shape=(2,), kernel_initializer='he_normal'))\n",
    "    model.add(tf.keras.layers.Dense(64, activation='relu', kernel_initializer='he_normal'))\n",
    "    model.add(tf.keras.layers.Dense(1))\n",
    "    model.compile(optimizer=tf.keras.optimizers.Adam(learning_rate=0.001),\n",
    "                  loss=tf.keras.losses.MeanSquaredError(),\n",
    "                  metrics=[tf.keras.metrics.MeanAbsoluteError()])\n",
    "    return model\n",
    "\n",
    "model = create_model()\n",
    "model.summary()"
   ]
  },
  {
   "cell_type": "code",
   "execution_count": 92,
   "metadata": {},
   "outputs": [
    {
     "name": "stdout",
     "output_type": "stream",
     "text": [
      "Epoch 1/10\n",
      "   1/2661 [..............................] - ETA: 29:33 - loss: 0.5100 - mse: 0.5100"
     ]
    },
    {
     "name": "stderr",
     "output_type": "stream",
     "text": [
      "2022-11-21 14:50:52.966206: I tensorflow/core/grappler/optimizers/custom_graph_optimizer_registry.cc:114] Plugin optimizer for device_type GPU is enabled.\n"
     ]
    },
    {
     "name": "stdout",
     "output_type": "stream",
     "text": [
      "2661/2661 [==============================] - ETA: 0s - loss: 0.0217 - mse: 0.0217"
     ]
    },
    {
     "name": "stderr",
     "output_type": "stream",
     "text": [
      "2022-11-21 14:51:24.139068: I tensorflow/core/grappler/optimizers/custom_graph_optimizer_registry.cc:114] Plugin optimizer for device_type GPU is enabled.\n"
     ]
    },
    {
     "name": "stdout",
     "output_type": "stream",
     "text": [
      "2661/2661 [==============================] - 33s 12ms/step - loss: 0.0217 - mse: 0.0217 - val_loss: 0.0063 - val_mse: 0.0063\n",
      "Epoch 2/10\n",
      "2661/2661 [==============================] - 32s 12ms/step - loss: 0.0075 - mse: 0.0075 - val_loss: 0.0025 - val_mse: 0.0025\n",
      "Epoch 3/10\n",
      "2661/2661 [==============================] - 23s 9ms/step - loss: 0.0062 - mse: 0.0062 - val_loss: 0.0025 - val_mse: 0.0025\n",
      "Epoch 4/10\n",
      "2661/2661 [==============================] - 23s 9ms/step - loss: 0.0060 - mse: 0.0060 - val_loss: 0.0027 - val_mse: 0.0027\n",
      "Epoch 5/10\n",
      "2661/2661 [==============================] - 23s 9ms/step - loss: 0.0059 - mse: 0.0059 - val_loss: 0.0040 - val_mse: 0.0040\n",
      "Epoch 6/10\n",
      "2661/2661 [==============================] - 23s 9ms/step - loss: 0.0058 - mse: 0.0058 - val_loss: 0.0028 - val_mse: 0.0028\n",
      "Epoch 7/10\n",
      "2661/2661 [==============================] - 22s 8ms/step - loss: 0.0058 - mse: 0.0058 - val_loss: 0.0020 - val_mse: 0.0020\n",
      "Epoch 8/10\n",
      "2661/2661 [==============================] - 23s 9ms/step - loss: 0.0057 - mse: 0.0057 - val_loss: 0.0041 - val_mse: 0.0041\n",
      "Epoch 9/10\n",
      "2661/2661 [==============================] - 27s 10ms/step - loss: 0.0057 - mse: 0.0057 - val_loss: 0.0022 - val_mse: 0.0022\n",
      "Epoch 10/10\n",
      "2661/2661 [==============================] - 25s 9ms/step - loss: 0.0057 - mse: 0.0057 - val_loss: 0.0021 - val_mse: 0.0021\n",
      "739/739 [==============================] - 4s 5ms/step - loss: 0.0023 - mse: 0.0023\n"
     ]
    },
    {
     "data": {
      "text/plain": [
       "[0.002335387747734785, 0.002335387747734785]"
      ]
     },
     "execution_count": 92,
     "metadata": {},
     "output_type": "execute_result"
    }
   ],
   "source": [
    "history = model.fit(x_train, y_train, epochs=10, validation_data=(x_val, y_val))\n",
    "model.evaluate(x_test, y_test)"
   ]
  },
  {
   "cell_type": "code",
   "execution_count": 94,
   "metadata": {},
   "outputs": [
    {
     "data": {
      "image/png": "[encoded data removed]",
      "text/plain": [
       "<Figure size 432x288 with 1 Axes>"
      ]
     },
     "metadata": {
      "needs_background": "light"
     },
     "output_type": "display_data"
    },
    {
     "data": {
      "image/png": "[encoded data removed]",
      "text/plain": [
       "<Figure size 432x288 with 1 Axes>"
      ]
     },
     "metadata": {
      "needs_background": "light"
     },
     "output_type": "display_data"
    }
   ],
   "source": [
    "import matplotlib.pyplot as plt\n",
    "plt.plot(history.history['loss'], label='loss')\n",
    "plt.plot(history.history['val_loss'], label='val_loss')\n",
    "plt.legend()\n",
    "plt.show()\n",
    "\n",
    "plt.plot(history.history['mse'], label='mse')\n",
    "plt.plot(history.history['val_mse'], label='val_mse')\n",
    "plt.legend()\n",
    "plt.show()"
   ]
  }
 ],
 "metadata": {
  "kernelspec": {
   "display_name": "Python 3.8.13 ('ciri')",
   "language": "python",
   "name": "python3"
  },
  "language_info": {
   "codemirror_mode": {
    "name": "ipython",
    "version": 3
   },
   "file_extension": ".py",
   "mimetype": "text/x-python",
   "name": "python",
   "nbconvert_exporter": "python",
   "pygments_lexer": "ipython3",
   "version": "3.8.13"
  },
  "orig_nbformat": 4,
  "vscode": {
   "interpreter": {
    "hash": "a5083997f2585a246d0aab643e43b5b9d0847ccd4dda64847b0c0b9a7be7b37c"
   }
  }
 },
 "nbformat": 4,
 "nbformat_minor": 2
}
